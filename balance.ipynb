{
 "cells": [
  {
   "cell_type": "code",
   "execution_count": 12,
   "metadata": {},
   "outputs": [],
   "source": [
    "import pandas as pd\n",
    "from imblearn.over_sampling import SMOTE\n",
    "from sklearn.model_selection import train_test_split\n",
    "from tqdm import tqdm"
   ]
  },
  {
   "cell_type": "code",
   "execution_count": 2,
   "metadata": {},
   "outputs": [],
   "source": [
    "df_train = pd.read_csv('./data/preprocessed_DNN_train.csv', low_memory=False)"
   ]
  },
  {
   "cell_type": "code",
   "execution_count": 4,
   "metadata": {},
   "outputs": [
    {
     "data": {
      "text/plain": [
       "0    1091198\n",
       "1     436538\n",
       "Name: Attack_label, dtype: int64"
      ]
     },
     "execution_count": 4,
     "metadata": {},
     "output_type": "execute_result"
    }
   ],
   "source": [
    "df_train.Attack_label.value_counts()"
   ]
  },
  {
   "cell_type": "code",
   "execution_count": 5,
   "metadata": {},
   "outputs": [
    {
     "data": {
      "text/plain": [
       "0     1091198\n",
       "4       97253\n",
       "5       54351\n",
       "9       40661\n",
       "3       40050\n",
       "2       40021\n",
       "1       39946\n",
       "6       38835\n",
       "7       29446\n",
       "10      19221\n",
       "11      15982\n",
       "8       12053\n",
       "12       7751\n",
       "13        682\n",
       "14        286\n",
       "Name: Attack_type, dtype: int64"
      ]
     },
     "execution_count": 5,
     "metadata": {},
     "output_type": "execute_result"
    }
   ],
   "source": [
    "df_train.Attack_type.value_counts()"
   ]
  },
  {
   "cell_type": "code",
   "execution_count": 7,
   "metadata": {},
   "outputs": [],
   "source": [
    "# ssmote\n",
    "smote = SMOTE()"
   ]
  },
  {
   "cell_type": "code",
   "execution_count": 8,
   "metadata": {},
   "outputs": [],
   "source": [
    "# 二分类\n",
    "_, df_binary = train_test_split(df_train, test_size=0.2, stratify=df_train.Attack_label)\n",
    "x = df_binary.drop(['Attack_label', 'Attack_type'], axis=1)\n",
    "y = df_binary['Attack_label']\n",
    "x_smote, y_smote = smote.fit_resample(x, y)\n",
    "train_balance_binary = pd.concat([x_smote, y_smote], axis=1)"
   ]
  },
  {
   "cell_type": "code",
   "execution_count": 9,
   "metadata": {},
   "outputs": [
    {
     "data": {
      "text/plain": [
       "1    218240\n",
       "0    218240\n",
       "Name: Attack_label, dtype: int64"
      ]
     },
     "execution_count": 9,
     "metadata": {},
     "output_type": "execute_result"
    }
   ],
   "source": [
    "train_balance_binary.Attack_label.value_counts()"
   ]
  },
  {
   "cell_type": "code",
   "execution_count": 11,
   "metadata": {},
   "outputs": [],
   "source": [
    "train_balance_binary.to_csv('./data/preprocessed_DNN_train_balance_binary.csv', index=False, encoding='utf-8')"
   ]
  },
  {
   "cell_type": "code",
   "execution_count": 17,
   "metadata": {},
   "outputs": [
    {
     "name": "stderr",
     "output_type": "stream",
     "text": [
      "100%|████████████████████████████████████████████████████████████████████████████████████| 3/3 [00:00<00:00,  4.01it/s]\n",
      "100%|██████████████████████████████████████████████████████████████████████████████████| 12/12 [02:41<00:00, 13.47s/it]\n"
     ]
    }
   ],
   "source": [
    "# 多分类\n",
    "# 下采样到\n",
    "under_sample_labels = [0, 4, 5]\n",
    "over_sample_labels = [1, 2, 3, 6, 7, 8, 9, 10, 11, 12, 13, 14]\n",
    "train_balance_multis = []\n",
    "df = df_train.drop(['Attack_label'], axis=1)\n",
    "for label in tqdm(under_sample_labels):\n",
    "    label_df_train = df.loc[df.Attack_type == label, :].sample(50000)\n",
    "    train_balance_multis.append(label_df_train)\n",
    "\n",
    "for label in tqdm(over_sample_labels):\n",
    "    label_df_train = df.loc[df.Attack_type == label, :]\n",
    "    target_df_train = train_balance_multis[0]\n",
    "    to_balance = pd.concat([label_df_train, target_df_train])\n",
    "    x = to_balance.drop(['Attack_type'], axis=1)\n",
    "    y = to_balance['Attack_type']\n",
    "    x_smote, y_smote = smote.fit_resample(x, y)\n",
    "    balance = pd.concat([x_smote, y_smote], axis=1)\n",
    "    label_df_train = balance.loc[balance.Attack_type == label,:]\n",
    "    train_balance_multis.append(label_df_train)"
   ]
  },
  {
   "cell_type": "code",
   "execution_count": 18,
   "metadata": {},
   "outputs": [],
   "source": [
    "train_balance_multi = pd.concat(train_balance_multis)"
   ]
  },
  {
   "cell_type": "code",
   "execution_count": 19,
   "metadata": {},
   "outputs": [
    {
     "data": {
      "text/plain": [
       "14    50000\n",
       "13    50000\n",
       "12    50000\n",
       "11    50000\n",
       "10    50000\n",
       "9     50000\n",
       "8     50000\n",
       "7     50000\n",
       "6     50000\n",
       "5     50000\n",
       "4     50000\n",
       "3     50000\n",
       "2     50000\n",
       "1     50000\n",
       "0     50000\n",
       "Name: Attack_type, dtype: int64"
      ]
     },
     "execution_count": 19,
     "metadata": {},
     "output_type": "execute_result"
    }
   ],
   "source": [
    "train_balance_multi.Attack_type.value_counts()"
   ]
  },
  {
   "cell_type": "code",
   "execution_count": 22,
   "metadata": {},
   "outputs": [],
   "source": [
    "train_balance_multi.to_csv('./data/preprocessed_DNN_train_balance_multi.csv', index=False, encoding='utf-8')"
   ]
  },
  {
   "cell_type": "code",
   "execution_count": 23,
   "metadata": {},
   "outputs": [],
   "source": [
    "serve_df = pd.read_csv('data/preprocessed_DNN_test.csv', low_memory=False)"
   ]
  }
 ],
 "metadata": {
  "kernelspec": {
   "display_name": "syft",
   "language": "python",
   "name": "syft"
  },
  "language_info": {
   "codemirror_mode": {
    "name": "ipython",
    "version": 3
   },
   "file_extension": ".py",
   "mimetype": "text/x-python",
   "name": "python",
   "nbconvert_exporter": "python",
   "pygments_lexer": "ipython3",
   "version": "3.6.5"
  },
  "toc": {
   "base_numbering": 1,
   "nav_menu": {},
   "number_sections": true,
   "sideBar": true,
   "skip_h1_title": false,
   "title_cell": "Table of Contents",
   "title_sidebar": "Contents",
   "toc_cell": false,
   "toc_position": {},
   "toc_section_display": true,
   "toc_window_display": false
  }
 },
 "nbformat": 4,
 "nbformat_minor": 5
}
